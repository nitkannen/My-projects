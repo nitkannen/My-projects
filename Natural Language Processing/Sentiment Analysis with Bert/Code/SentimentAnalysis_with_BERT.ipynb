{
  "nbformat": 4,
  "nbformat_minor": 0,
  "metadata": {
    "accelerator": "GPU",
    "colab": {
      "name": "SentimentAnalysis_with_BERT.ipynb",
      "provenance": [],
      "collapsed_sections": []
    },
    "kernelspec": {
      "display_name": "Python 3",
      "name": "python3"
    }
  },
  "cells": [
    {
      "cell_type": "code",
      "metadata": {
        "id": "4qrkGbnoFn8g"
      },
      "source": [
        "!pip install -qq transformers\r\n"
      ],
      "execution_count": null,
      "outputs": []
    },
    {
      "cell_type": "code",
      "metadata": {
        "colab": {
          "base_uri": "https://localhost:8080/"
        },
        "id": "Urtx-UkTUO1L",
        "outputId": "00cc5879-3c75-4b9a-bb9e-27409dfb3e31"
      },
      "source": [
        "pip install transformers==3"
      ],
      "execution_count": null,
      "outputs": [
        {
          "output_type": "stream",
          "text": [
            "Requirement already satisfied: transformers==3 in /usr/local/lib/python3.6/dist-packages (3.0.0)\n",
            "Requirement already satisfied: regex!=2019.12.17 in /usr/local/lib/python3.6/dist-packages (from transformers==3) (2019.12.20)\n",
            "Requirement already satisfied: packaging in /usr/local/lib/python3.6/dist-packages (from transformers==3) (20.7)\n",
            "Requirement already satisfied: tqdm>=4.27 in /usr/local/lib/python3.6/dist-packages (from transformers==3) (4.41.1)\n",
            "Requirement already satisfied: tokenizers==0.8.0-rc4 in /usr/local/lib/python3.6/dist-packages (from transformers==3) (0.8.0rc4)\n",
            "Requirement already satisfied: sacremoses in /usr/local/lib/python3.6/dist-packages (from transformers==3) (0.0.43)\n",
            "Requirement already satisfied: sentencepiece in /usr/local/lib/python3.6/dist-packages (from transformers==3) (0.1.94)\n",
            "Requirement already satisfied: dataclasses; python_version < \"3.7\" in /usr/local/lib/python3.6/dist-packages (from transformers==3) (0.8)\n",
            "Requirement already satisfied: filelock in /usr/local/lib/python3.6/dist-packages (from transformers==3) (3.0.12)\n",
            "Requirement already satisfied: numpy in /usr/local/lib/python3.6/dist-packages (from transformers==3) (1.18.5)\n",
            "Requirement already satisfied: requests in /usr/local/lib/python3.6/dist-packages (from transformers==3) (2.23.0)\n",
            "Requirement already satisfied: pyparsing>=2.0.2 in /usr/local/lib/python3.6/dist-packages (from packaging->transformers==3) (2.4.7)\n",
            "Requirement already satisfied: click in /usr/local/lib/python3.6/dist-packages (from sacremoses->transformers==3) (7.1.2)\n",
            "Requirement already satisfied: joblib in /usr/local/lib/python3.6/dist-packages (from sacremoses->transformers==3) (0.17.0)\n",
            "Requirement already satisfied: six in /usr/local/lib/python3.6/dist-packages (from sacremoses->transformers==3) (1.15.0)\n",
            "Requirement already satisfied: chardet<4,>=3.0.2 in /usr/local/lib/python3.6/dist-packages (from requests->transformers==3) (3.0.4)\n",
            "Requirement already satisfied: idna<3,>=2.5 in /usr/local/lib/python3.6/dist-packages (from requests->transformers==3) (2.10)\n",
            "Requirement already satisfied: urllib3!=1.25.0,!=1.25.1,<1.26,>=1.21.1 in /usr/local/lib/python3.6/dist-packages (from requests->transformers==3) (1.24.3)\n",
            "Requirement already satisfied: certifi>=2017.4.17 in /usr/local/lib/python3.6/dist-packages (from requests->transformers==3) (2020.12.5)\n"
          ],
          "name": "stdout"
        }
      ]
    },
    {
      "cell_type": "code",
      "metadata": {
        "id": "-8PlOTRSGDPr"
      },
      "source": [
        "!pip install -q -U watermark"
      ],
      "execution_count": null,
      "outputs": []
    },
    {
      "cell_type": "code",
      "metadata": {
        "colab": {
          "base_uri": "https://localhost:8080/"
        },
        "id": "wjw9S6ZYGIRv",
        "outputId": "9e25ba5f-cef2-42b1-831e-c11df49d56a4"
      },
      "source": [
        "%reload_ext watermark\r\n",
        "%watermark -v -p numpy,pandas,torch,transformers"
      ],
      "execution_count": null,
      "outputs": [
        {
          "output_type": "stream",
          "text": [
            "CPython 3.6.9\n",
            "IPython 5.5.0\n",
            "\n",
            "numpy 1.18.5\n",
            "pandas 1.1.5\n",
            "torch 1.7.0+cu101\n",
            "transformers 3.0.0\n"
          ],
          "name": "stdout"
        }
      ]
    },
    {
      "cell_type": "code",
      "metadata": {
        "colab": {
          "base_uri": "https://localhost:8080/"
        },
        "id": "UsG5tB_GGVm4",
        "outputId": "2ed0a0fa-42de-4fd7-8d78-4fdede807b56"
      },
      "source": [
        "#@title Setup & Config\r\n",
        "import transformers\r\n",
        "from transformers import BertModel, BertTokenizer, AdamW, get_linear_schedule_with_warmup\r\n",
        "import torch\r\n",
        "\r\n",
        "import numpy as np\r\n",
        "import pandas as pd\r\n",
        "import seaborn as sns\r\n",
        "from pylab import rcParams\r\n",
        "import matplotlib.pyplot as plt\r\n",
        "from matplotlib import rc\r\n",
        "from sklearn.model_selection import train_test_split\r\n",
        "from sklearn.metrics import confusion_matrix, classification_report\r\n",
        "from collections import defaultdict\r\n",
        "from textwrap import wrap\r\n",
        "\r\n",
        "from torch import nn, optim\r\n",
        "from torch.utils.data import Dataset, DataLoader\r\n",
        "import torch.nn.functional as F\r\n",
        "\r\n",
        "%matplotlib inline\r\n",
        "%config InlineBackend.figure_format='retina'\r\n",
        "\r\n",
        "sns.set(style='whitegrid', palette='muted', font_scale=1.2)\r\n",
        "\r\n",
        "HAPPY_COLORS_PALETTE = [\"#01BEFE\", \"#FFDD00\", \"#FF7D00\", \"#FF006D\", \"#ADFF02\", \"#8F00FF\"]\r\n",
        "\r\n",
        "sns.set_palette(sns.color_palette(HAPPY_COLORS_PALETTE))\r\n",
        "\r\n",
        "rcParams['figure.figsize'] = 12, 8\r\n",
        "\r\n",
        "RANDOM_SEED = 42\r\n",
        "np.random.seed(RANDOM_SEED)\r\n",
        "torch.manual_seed(RANDOM_SEED)\r\n",
        "\r\n",
        "device = torch.device(\"cuda:0\" if torch.cuda.is_available() else \"cpu\")\r\n",
        "device"
      ],
      "execution_count": null,
      "outputs": [
        {
          "output_type": "execute_result",
          "data": {
            "text/plain": [
              "device(type='cuda', index=0)"
            ]
          },
          "metadata": {
            "tags": []
          },
          "execution_count": 4
        }
      ]
    },
    {
      "cell_type": "code",
      "metadata": {
        "colab": {
          "base_uri": "https://localhost:8080/"
        },
        "id": "g6RGpiAiGatV",
        "outputId": "9545aecc-52bb-45fe-eacd-00941f3ada2a"
      },
      "source": [
        "## Dataser has been open sourced and is available publicly at this link\r\n",
        "\r\n",
        "!gdown --id 1S6qMioqPJjyBLpLVz4gmRTnJHnjitnuV\r\n",
        "!gdown --id 1zdmewp7ayS4js4VtrJEHzAheSW-5NBZv"
      ],
      "execution_count": null,
      "outputs": [
        {
          "output_type": "stream",
          "text": [
            "Downloading...\n",
            "From: https://drive.google.com/uc?id=1S6qMioqPJjyBLpLVz4gmRTnJHnjitnuV\n",
            "To: /content/apps.csv\n",
            "100% 134k/134k [00:00<00:00, 41.0MB/s]\n",
            "Downloading...\n",
            "From: https://drive.google.com/uc?id=1zdmewp7ayS4js4VtrJEHzAheSW-5NBZv\n",
            "To: /content/reviews.csv\n",
            "7.17MB [00:00, 63.0MB/s]\n"
          ],
          "name": "stdout"
        }
      ]
    },
    {
      "cell_type": "code",
      "metadata": {
        "id": "RX4T9h16HI2F"
      },
      "source": [
        "df = pd.read_csv('reviews.csv') #### Contents all we need, i.e. it has the review and the score"
      ],
      "execution_count": null,
      "outputs": []
    },
    {
      "cell_type": "code",
      "metadata": {
        "id": "sM0wjKUtHQkP"
      },
      "source": [
        "df1 = pd.read_csv('apps.csv')"
      ],
      "execution_count": null,
      "outputs": []
    },
    {
      "cell_type": "code",
      "metadata": {
        "colab": {
          "base_uri": "https://localhost:8080/"
        },
        "id": "-hpsiQoKJ1KV",
        "outputId": "9db4aa90-330c-43d4-9437-2c52fff25318"
      },
      "source": [
        "df.columns"
      ],
      "execution_count": null,
      "outputs": [
        {
          "output_type": "execute_result",
          "data": {
            "text/plain": [
              "Index(['userName', 'userImage', 'content', 'score', 'thumbsUpCount',\n",
              "       'reviewCreatedVersion', 'at', 'replyContent', 'repliedAt', 'sortOrder',\n",
              "       'appId'],\n",
              "      dtype='object')"
            ]
          },
          "metadata": {
            "tags": []
          },
          "execution_count": 8
        }
      ]
    },
    {
      "cell_type": "code",
      "metadata": {
        "colab": {
          "base_uri": "https://localhost:8080/",
          "height": 578
        },
        "id": "Ac3eIA3nHaNu",
        "outputId": "834d1172-2a1a-4528-cdc0-465fa8aea739"
      },
      "source": [
        "sns.countplot(df['score'])"
      ],
      "execution_count": null,
      "outputs": [
        {
          "output_type": "stream",
          "text": [
            "/usr/local/lib/python3.6/dist-packages/seaborn/_decorators.py:43: FutureWarning: Pass the following variable as a keyword arg: x. From version 0.12, the only valid positional argument will be `data`, and passing other arguments without an explicit keyword will result in an error or misinterpretation.\n",
            "  FutureWarning\n"
          ],
          "name": "stderr"
        },
        {
          "output_type": "execute_result",
          "data": {
            "text/plain": [
              "<matplotlib.axes._subplots.AxesSubplot at 0x7f12553a5d30>"
            ]
          },
          "metadata": {
            "tags": []
          },
          "execution_count": 9
        },
        {
          "output_type": "display_data",
          "data": {
            "image/png": "[encoded data removed]",
            "text/plain": [
              "<Figure size 864x576 with 1 Axes>"
            ]
          },
          "metadata": {
            "tags": [],
            "image/png": {
              "height": 489,
              "width": 745
            }
          }
        }
      ]
    },
    {
      "cell_type": "code",
      "metadata": {
        "colab": {
          "base_uri": "https://localhost:8080/",
          "height": 580
        },
        "id": "jrT1hTD7IHjs",
        "outputId": "61a1c544-f441-4f72-acdc-25cf07bbeab3"
      },
      "source": [
        "sns.distplot((df['content'].apply(lambda x: len(x.split(' ')))))"
      ],
      "execution_count": null,
      "outputs": [
        {
          "output_type": "stream",
          "text": [
            "/usr/local/lib/python3.6/dist-packages/seaborn/distributions.py:2551: FutureWarning: `distplot` is a deprecated function and will be removed in a future version. Please adapt your code to use either `displot` (a figure-level function with similar flexibility) or `histplot` (an axes-level function for histograms).\n",
            "  warnings.warn(msg, FutureWarning)\n"
          ],
          "name": "stderr"
        },
        {
          "output_type": "execute_result",
          "data": {
            "text/plain": [
              "<matplotlib.axes._subplots.AxesSubplot at 0x7f12552f3b38>"
            ]
          },
          "metadata": {
            "tags": []
          },
          "execution_count": 10
        },
        {
          "output_type": "display_data",
          "data": {
            "image/png": "[encoded data removed]",
            "text/plain": [
              "<Figure size 864x576 with 1 Axes>"
            ]
          },
          "metadata": {
            "tags": [],
            "image/png": {
              "height": 491,
              "width": 749
            }
          }
        }
      ]
    },
    {
      "cell_type": "code",
      "metadata": {
        "id": "CA9tgX2UKc91"
      },
      "source": [
        "##"
      ],
      "execution_count": null,
      "outputs": []
    },
    {
      "cell_type": "markdown",
      "metadata": {
        "id": "yWyMM6zpPgzs"
      },
      "source": [
        "Now we convert the score into three categories"
      ]
    },
    {
      "cell_type": "code",
      "metadata": {
        "id": "ZgE2Iot8KvAL"
      },
      "source": [
        "def make_classes(x):\r\n",
        "\r\n",
        "  if x < 3:\r\n",
        "    return 0 ## class negative\r\n",
        "\r\n",
        "  if x == 3:\r\n",
        "    return 1 #### class neutral\r\n",
        "  \r\n",
        "  if x>3:\r\n",
        "    return 2 ### class positive"
      ],
      "execution_count": null,
      "outputs": []
    },
    {
      "cell_type": "code",
      "metadata": {
        "id": "gNLprnolP9yT"
      },
      "source": [
        "### categorizing targets\r\n",
        "\r\n",
        "df['targets'] = df['score'].apply(make_classes)"
      ],
      "execution_count": null,
      "outputs": []
    },
    {
      "cell_type": "code",
      "metadata": {
        "colab": {
          "base_uri": "https://localhost:8080/",
          "height": 578
        },
        "id": "BN8K5GN6QwXl",
        "outputId": "552ad6ea-94bf-47cf-a0f6-953d475175c6"
      },
      "source": [
        "ax = sns.countplot(df['targets'])\r\n",
        "\r\n",
        "ax.set_xticklabels(['negative', 'neutral', 'positive'])"
      ],
      "execution_count": null,
      "outputs": [
        {
          "output_type": "stream",
          "text": [
            "/usr/local/lib/python3.6/dist-packages/seaborn/_decorators.py:43: FutureWarning: Pass the following variable as a keyword arg: x. From version 0.12, the only valid positional argument will be `data`, and passing other arguments without an explicit keyword will result in an error or misinterpretation.\n",
            "  FutureWarning\n"
          ],
          "name": "stderr"
        },
        {
          "output_type": "execute_result",
          "data": {
            "text/plain": [
              "[Text(0, 0, 'negative'), Text(0, 0, 'neutral'), Text(0, 0, 'positive')]"
            ]
          },
          "metadata": {
            "tags": []
          },
          "execution_count": 14
        },
        {
          "output_type": "display_data",
          "data": {
            "image/png": "[encoded data removed]",
            "text/plain": [
              "<Figure size 864x576 with 1 Axes>"
            ]
          },
          "metadata": {
            "tags": [],
            "image/png": {
              "height": 489,
              "width": 745
            }
          }
        }
      ]
    },
    {
      "cell_type": "code",
      "metadata": {
        "id": "mcUtRk9oQx-H"
      },
      "source": [
        "#### As suggested in the HugginFace Library, we perform all the pre processing \r\n",
        "PRE_TRAINED_MODEL_NAME = 'bert-base-cased'"
      ],
      "execution_count": null,
      "outputs": []
    },
    {
      "cell_type": "code",
      "metadata": {
        "id": "ATGrE7-0SBB4"
      },
      "source": [
        "tokenizer = BertTokenizer.from_pretrained(PRE_TRAINED_MODEL_NAME)"
      ],
      "execution_count": null,
      "outputs": []
    },
    {
      "cell_type": "code",
      "metadata": {
        "id": "NphHgrmFTSaP"
      },
      "source": [
        "text = \"The biggest thing that I thought would happen was the fact that It will always go uphill\" ## Sentence doesnt make too much sense lol:)"
      ],
      "execution_count": null,
      "outputs": []
    },
    {
      "cell_type": "code",
      "metadata": {
        "id": "VWuE3p4HT7sG"
      },
      "source": [
        "sample_tokens = tokenizer.tokenize(text)\r\n",
        "ids = tokenizer.convert_tokens_to_ids(sample_tokens)"
      ],
      "execution_count": null,
      "outputs": []
    },
    {
      "cell_type": "code",
      "metadata": {
        "colab": {
          "base_uri": "https://localhost:8080/"
        },
        "id": "Az5R8osJUmCK",
        "outputId": "3dda544e-b5cb-4ce6-ac81-1499081c488a"
      },
      "source": [
        "tokenizer.sep_token_id"
      ],
      "execution_count": null,
      "outputs": [
        {
          "output_type": "execute_result",
          "data": {
            "text/plain": [
              "102"
            ]
          },
          "metadata": {
            "tags": []
          },
          "execution_count": 19
        }
      ]
    },
    {
      "cell_type": "code",
      "metadata": {
        "colab": {
          "base_uri": "https://localhost:8080/"
        },
        "id": "qDxU06Z9VIC7",
        "outputId": "6da6976e-c364-4091-f64f-aa7cdc9eeebf"
      },
      "source": [
        "encoding = tokenizer.encode_plus(\r\n",
        "  text,\r\n",
        "  max_length=32,\r\n",
        "  add_special_tokens=True,      # Add '[CLS]' and '[SEP]'\r\n",
        "  return_token_type_ids=False,\r\n",
        "  pad_to_max_length=True,\r\n",
        "  return_attention_mask=True,  ## This needs to be given as input to the Bert LM\r\n",
        "  return_tensors='pt',        # Return PyTorch tensors\r\n",
        ")"
      ],
      "execution_count": null,
      "outputs": [
        {
          "output_type": "stream",
          "text": [
            "Truncation was not explicitely activated but `max_length` is provided a specific value, please use `truncation=True` to explicitely truncate examples to max length. Defaulting to 'only_first' truncation strategy. If you encode pairs of sequences (GLUE-style) with the tokenizer you may want to check this is the right behavior.\n"
          ],
          "name": "stderr"
        }
      ]
    },
    {
      "cell_type": "code",
      "metadata": {
        "colab": {
          "base_uri": "https://localhost:8080/"
        },
        "id": "jmqQIgcdXQqq",
        "outputId": "7652ac1d-d43c-4118-cea3-c7bdb1fff251"
      },
      "source": [
        "encoding['input_ids']"
      ],
      "execution_count": null,
      "outputs": [
        {
          "output_type": "execute_result",
          "data": {
            "text/plain": [
              "tensor([[ 101, 1109, 4583, 1645, 1115,  146, 1354, 1156, 3333, 1108, 1103, 1864,\n",
              "         1115, 1135, 1209, 1579, 1301, 1146, 6690,  102,    0,    0,    0,    0,\n",
              "            0,    0,    0,    0,    0,    0,    0,    0]])"
            ]
          },
          "metadata": {
            "tags": []
          },
          "execution_count": 21
        }
      ]
    },
    {
      "cell_type": "code",
      "metadata": {
        "colab": {
          "base_uri": "https://localhost:8080/"
        },
        "id": "bxOMEqHQZAA7",
        "outputId": "6f8a42c1-5d28-4363-b718-d4546aac512f"
      },
      "source": [
        "encoding.keys()"
      ],
      "execution_count": null,
      "outputs": [
        {
          "output_type": "execute_result",
          "data": {
            "text/plain": [
              "dict_keys(['input_ids', 'attention_mask'])"
            ]
          },
          "metadata": {
            "tags": []
          },
          "execution_count": 22
        }
      ]
    },
    {
      "cell_type": "code",
      "metadata": {
        "id": "Wb61jHMf-60e"
      },
      "source": [
        ""
      ],
      "execution_count": null,
      "outputs": []
    },
    {
      "cell_type": "code",
      "metadata": {
        "id": "NtetQII3Aa1i"
      },
      "source": [
        ""
      ],
      "execution_count": null,
      "outputs": []
    },
    {
      "cell_type": "markdown",
      "metadata": {
        "id": "fyRCPC7KBUgE"
      },
      "source": [
        "Creating a Dataset in PyTorch"
      ]
    },
    {
      "cell_type": "code",
      "metadata": {
        "id": "JueTPUUOBXUi"
      },
      "source": [
        "class AppReview(Dataset):\r\n",
        "\r\n",
        "  def __init__(self, review, target, MAX_LEN, tokenizer):\r\n",
        "\r\n",
        "    self.review = review\r\n",
        "    self.target = target\r\n",
        "    self.max_len = MAX_LEN\r\n",
        "    self.tokenizer = tokenizer\r\n",
        "\r\n",
        "  def __len__(self):\r\n",
        "\r\n",
        "    return len(self.target)\r\n",
        "\r\n",
        "  def __getitem__(self, item):\r\n",
        "\r\n",
        "    #### This function returns a dictionary when the dataset class is called\r\n",
        "    review = str(self.review[item])\r\n",
        "    target = self.target[item]\r\n",
        "\r\n",
        "    encoding = self.tokenizer.encode_plus(\r\n",
        "        review,\r\n",
        "        max_length= self.max_len,\r\n",
        "        add_special_tokens=True,      # Add '[CLS]' and '[SEP]'\r\n",
        "        return_token_type_ids=False,\r\n",
        "        pad_to_max_length=True,\r\n",
        "        return_attention_mask=True,  ## This needs to be given as input to the Bert LM\r\n",
        "        return_tensors='pt',\r\n",
        "        truncation  = True\r\n",
        "        \r\n",
        "    )\r\n",
        "\r\n",
        "    return {\r\n",
        "        'review': review,\r\n",
        "        'target': target,\r\n",
        "        'input_ids': encoding['input_ids'],\r\n",
        "        'attention_mask': encoding['attention_mask']\r\n",
        "    }\r\n",
        "\r\n"
      ],
      "execution_count": null,
      "outputs": []
    },
    {
      "cell_type": "code",
      "metadata": {
        "id": "L6mEtmO2Eza3"
      },
      "source": [
        "reviews = df.content.to_numpy()"
      ],
      "execution_count": null,
      "outputs": []
    },
    {
      "cell_type": "code",
      "metadata": {
        "id": "bFiABnIYO2V7"
      },
      "source": [
        "targets = df.targets.to_numpy()"
      ],
      "execution_count": null,
      "outputs": []
    },
    {
      "cell_type": "code",
      "metadata": {
        "id": "iE1gY1lpE2KG"
      },
      "source": [
        "X_train, X_test, y_train, y_test = train_test_split(reviews, targets, test_size = 0.11, random_state = 101 ) "
      ],
      "execution_count": null,
      "outputs": []
    },
    {
      "cell_type": "code",
      "metadata": {
        "id": "vOj94Ho_E5lM"
      },
      "source": [
        "X_test, X_val, y_test, y_val = train_test_split(X_test, y_test, test_size = 0.4, random_state = 101 )"
      ],
      "execution_count": null,
      "outputs": []
    },
    {
      "cell_type": "code",
      "metadata": {
        "id": "anXlqpSjOr5z"
      },
      "source": [
        "##### We have the train, validation and test set for our analysis"
      ],
      "execution_count": null,
      "outputs": []
    },
    {
      "cell_type": "code",
      "metadata": {
        "id": "zpY11XydQxKB"
      },
      "source": [
        "data = AppReview(X_train, y_train, 160, tokenizer)"
      ],
      "execution_count": null,
      "outputs": []
    },
    {
      "cell_type": "code",
      "metadata": {
        "id": "uBb8nZFuQ9s4"
      },
      "source": [
        ""
      ],
      "execution_count": null,
      "outputs": []
    },
    {
      "cell_type": "code",
      "metadata": {
        "id": "JAt_N3n0QCCH"
      },
      "source": [
        "def create_data_loader(X, y, tokenizer, MAX_LEN):\r\n",
        "\r\n",
        "  data = AppReview(\r\n",
        "      X, y, MAX_LEN, tokenizer\r\n",
        "  )\r\n",
        "\r\n",
        "  return DataLoader(\r\n",
        "      data,\r\n",
        "      batch_size = 16,\r\n",
        "      num_workers = 4\r\n",
        "  )"
      ],
      "execution_count": null,
      "outputs": []
    },
    {
      "cell_type": "code",
      "metadata": {
        "id": "n039zlKcSK__"
      },
      "source": [
        "loader = create_data_loader(X_train, y_train, tokenizer, 160)"
      ],
      "execution_count": null,
      "outputs": []
    },
    {
      "cell_type": "code",
      "metadata": {
        "id": "EyAH92F5SYsT"
      },
      "source": [
        " a = next(iter(loader))"
      ],
      "execution_count": null,
      "outputs": []
    },
    {
      "cell_type": "code",
      "metadata": {
        "id": "eo7qgEgGSbUF"
      },
      "source": [
        "train_data_loader = create_data_loader(X_train, y_train, tokenizer, 160)\r\n",
        "test_data_loader = create_data_loader(X_test, y_test, tokenizer, 160)\r\n",
        "validation_data_loader = create_data_loader(X_val, y_val, tokenizer, 160)"
      ],
      "execution_count": null,
      "outputs": []
    },
    {
      "cell_type": "code",
      "metadata": {
        "id": "EKTpXPZtScCg"
      },
      "source": [
        ""
      ],
      "execution_count": null,
      "outputs": []
    },
    {
      "cell_type": "markdown",
      "metadata": {
        "id": "XC5bsQux7kjf"
      },
      "source": [
        "Building the Sentiment CLassifier"
      ]
    },
    {
      "cell_type": "markdown",
      "metadata": {
        "id": "-x1baqGa21T7"
      },
      "source": [
        ""
      ]
    },
    {
      "cell_type": "code",
      "metadata": {
        "id": "L2w3uHvG7ndb"
      },
      "source": [
        "bert_model = BertModel.from_pretrained(PRE_TRAINED_MODEL_NAME)"
      ],
      "execution_count": null,
      "outputs": []
    },
    {
      "cell_type": "code",
      "metadata": {
        "id": "bp0jVIYOgCMt"
      },
      "source": [
        "sample_txt = 'When was I last outside? I am stuck at home for 2 weeks.'"
      ],
      "execution_count": null,
      "outputs": []
    },
    {
      "cell_type": "code",
      "metadata": {
        "colab": {
          "base_uri": "https://localhost:8080/"
        },
        "id": "V9htddqI8xY9",
        "outputId": "077ea9c8-5e22-4078-d5b9-53e820eb3ef1"
      },
      "source": [
        "encoding = tokenizer.encode_plus(\r\n",
        "  sample_txt,\r\n",
        "  max_length=32,\r\n",
        "  add_special_tokens=True, # Add '[CLS]' and '[SEP]'\r\n",
        "  return_token_type_ids=False,\r\n",
        "  pad_to_max_length=True,\r\n",
        "  return_attention_mask=True,\r\n",
        "  return_tensors = 'pt',  # Return PyTorch tensors\r\n",
        ")\r\n",
        "\r\n",
        "encoding.keys()"
      ],
      "execution_count": null,
      "outputs": [
        {
          "output_type": "stream",
          "text": [
            "/usr/local/lib/python3.6/dist-packages/transformers/tokenization_utils_base.py:2142: FutureWarning: The `pad_to_max_length` argument is deprecated and will be removed in a future version, use `padding=True` or `padding='longest'` to pad to the longest sequence in the batch, or use `padding='max_length'` to pad to a max length. In this case, you can give a specific length with `max_length` (e.g. `max_length=45`) or leave max_length to None to pad to the maximal input size of the model (e.g. 512 for Bert).\n",
            "  FutureWarning,\n"
          ],
          "name": "stderr"
        },
        {
          "output_type": "execute_result",
          "data": {
            "text/plain": [
              "dict_keys(['input_ids', 'attention_mask'])"
            ]
          },
          "metadata": {
            "tags": []
          },
          "execution_count": 42
        }
      ]
    },
    {
      "cell_type": "code",
      "metadata": {
        "id": "AcAyDhcDgCrN"
      },
      "source": [
        "class SentimentClassifier(nn.Module):\r\n",
        "\r\n",
        "  def __init__(self,n_classes):\r\n",
        "    super(SentimentClassifier, self).__init__()\r\n",
        "    self.Bert = BertModel.from_pretrained(PRE_TRAINED_MODEL_NAME)\r\n",
        "    self.dropout = nn.Dropout(p = 0.2)\r\n",
        "    self.linear = nn.Linear(self.Bert.config.hidden_size, n_classes)\r\n",
        "\r\n",
        "  def forward(self, input_ids, attention_mask):\r\n",
        "\r\n",
        "    _, pooled_output = self.Bert(\r\n",
        "        input_ids = input_ids,\r\n",
        "        attention_mask = attention_mask                        ##### Note: while using the BertModel: remember to use return_dict = False\r\n",
        "    )\r\n",
        "\r\n",
        "    x = self.dropout(pooled_output)\r\n",
        "    out = self.linear(x)\r\n",
        "\r\n",
        "    return out"
      ],
      "execution_count": null,
      "outputs": []
    },
    {
      "cell_type": "code",
      "metadata": {
        "id": "co6xjKzlIW_v"
      },
      "source": [
        "model = SentimentClassifier(3).to(device)"
      ],
      "execution_count": null,
      "outputs": []
    },
    {
      "cell_type": "code",
      "metadata": {
        "id": "Zn01nZb3RZfN"
      },
      "source": [
        "input_ids = data['input_ids'].squeeze(1)\r\n",
        "att_mask = data['attention_mask'].squeeze(1)\r\n",
        "targets = data['target']"
      ],
      "execution_count": null,
      "outputs": []
    },
    {
      "cell_type": "code",
      "metadata": {
        "colab": {
          "base_uri": "https://localhost:8080/"
        },
        "id": "NNrXCDPYRkoE",
        "outputId": "544077e6-a166-450d-b9e3-d61c9563e6e6"
      },
      "source": [
        "print(input_ids.shape)"
      ],
      "execution_count": null,
      "outputs": [
        {
          "output_type": "stream",
          "text": [
            "torch.Size([64, 160])\n"
          ],
          "name": "stdout"
        }
      ]
    },
    {
      "cell_type": "code",
      "metadata": {
        "colab": {
          "base_uri": "https://localhost:8080/"
        },
        "id": "plpFsk4tRqeN",
        "outputId": "c8db1297-0190-403d-c2b9-ce3b9d5d285d"
      },
      "source": [
        "F.softmax(model(input_ids, att_mask), dim=1)"
      ],
      "execution_count": null,
      "outputs": [
        {
          "output_type": "execute_result",
          "data": {
            "text/plain": [
              "tensor([[0.2719, 0.4067, 0.3214],\n",
              "        [0.3613, 0.2704, 0.3683],\n",
              "        [0.2892, 0.3089, 0.4019],\n",
              "        [0.3040, 0.3105, 0.3855],\n",
              "        [0.2455, 0.4968, 0.2577],\n",
              "        [0.3274, 0.3443, 0.3283],\n",
              "        [0.3151, 0.2809, 0.4039],\n",
              "        [0.1757, 0.4275, 0.3968],\n",
              "        [0.2479, 0.4551, 0.2970],\n",
              "        [0.2950, 0.3229, 0.3821],\n",
              "        [0.2981, 0.2336, 0.4683],\n",
              "        [0.2357, 0.4125, 0.3519],\n",
              "        [0.2840, 0.2535, 0.4625],\n",
              "        [0.3797, 0.3575, 0.2628],\n",
              "        [0.3220, 0.2756, 0.4024],\n",
              "        [0.2722, 0.4072, 0.3205]], grad_fn=<SoftmaxBackward>)"
            ]
          },
          "metadata": {
            "tags": []
          },
          "execution_count": 44
        }
      ]
    },
    {
      "cell_type": "code",
      "metadata": {
        "id": "m7EeU3boR0nZ"
      },
      "source": [
        ""
      ],
      "execution_count": null,
      "outputs": []
    },
    {
      "cell_type": "markdown",
      "metadata": {
        "id": "_rSLyH6KW1Zn"
      },
      "source": [
        "Model Training"
      ]
    },
    {
      "cell_type": "code",
      "metadata": {
        "id": "UO7xB_gOW2rs"
      },
      "source": [
        "EPOCHS = 12\r\n",
        "\r\n",
        "optimizer = AdamW(model.parameters(), lr = 1e-5, correct_bias= True)\r\n",
        "total_steps = len(train_data_loader)*EPOCHS\r\n",
        "\r\n",
        "scheduler = get_linear_schedule_with_warmup(\r\n",
        "    optimizer = optimizer,\r\n",
        "    num_warmup_steps=0,\r\n",
        "    num_training_steps=total_steps\r\n",
        ")\r\n",
        "criterion = nn.CrossEntropyLoss().to(device)"
      ],
      "execution_count": null,
      "outputs": []
    },
    {
      "cell_type": "code",
      "metadata": {
        "id": "vxPNPyHHYztd"
      },
      "source": [
        "def train_epoch(model, optimizer, criterion, scheduler, data_loader, device, num_examples):\r\n",
        "\r\n",
        "  \"\"\"\r\n",
        "  This function runs one training epoch including forward prop and backprop\r\n",
        "\r\n",
        "  \"\"\"\r\n",
        "\r\n",
        "  model = model.train() ## setting model in training model\r\n",
        "\r\n",
        "  losses = []\r\n",
        "  correct_predictions = 0\r\n",
        "\r\n",
        "  for data_batch in data_loader:\r\n",
        "\r\n",
        "    input_ids = data_batch['input_ids'].squeeze(1).to(device)\r\n",
        "    attention_mask = data_batch['attention_mask'].squeeze(1).to(device)\r\n",
        "\r\n",
        "    target = data_batch['target'].to(device)\r\n",
        "\r\n",
        "    output = model(\r\n",
        "        input_ids,\r\n",
        "        attention_mask\r\n",
        "    )\r\n",
        " \r\n",
        "    loss = criterion(output, target) ## we evaluate the loss at each step\r\n",
        "    losses.append(loss.item())\r\n",
        "\r\n",
        "    _, predictions = torch.max(output, dim = 1)\r\n",
        "    correct_predictions += torch.sum(predictions == target)\r\n",
        "\r\n",
        "    loss.backward()\r\n",
        "    nn.utils.clip_grad_norm_(model.parameters(), max_norm=1.0)\r\n",
        "\r\n",
        "    optimizer.step()\r\n",
        "    scheduler.step()\r\n",
        "    optimizer.zero_grad()\r\n",
        "\r\n",
        "\r\n",
        "  return (correct_predictions / num_examples, np.mean(losses))\r\n"
      ],
      "execution_count": null,
      "outputs": []
    },
    {
      "cell_type": "code",
      "metadata": {
        "id": "_L3JexzbuIDk"
      },
      "source": [
        "def evaluate_model( model, optimizer, criterion, scheduler, data_loader, num_examples):\r\n",
        "\r\n",
        "  \"\"\"\r\n",
        "  This function is essentially used to evaluate the model with validation or test set\r\n",
        "\r\n",
        "  \"\"\"\r\n",
        "\r\n",
        "  correct_predictions = 0\r\n",
        "  losses = []\r\n",
        "  model.eval()\r\n",
        "\r\n",
        "  with torch.no_grad():\r\n",
        "    for data_batch in data_loader:\r\n",
        "\r\n",
        "      input_ids = data_batch['input_ids'].squeeze(1).to(device)\r\n",
        "      attention_mask = data_batch['attention_mask'].squeeze(1).to(device)\r\n",
        "\r\n",
        "      target = data_batch['target'].to(device)\r\n",
        "\r\n",
        "      output = model(\r\n",
        "          input_ids,\r\n",
        "          attention_mask\r\n",
        "      )\r\n",
        "\r\n",
        "      _, predictions = torch.max(output, dim = 1 )\r\n",
        "      correct_predictions += torch.sum(predictions == target)\r\n",
        "\r\n",
        "      loss = criterion(output, target) ## we evaluate the loss at each step\r\n",
        "      losses.append(loss.item())\r\n",
        "\r\n",
        "\r\n",
        "  return (correct_predictions / num_examples, np.mean(losses))\r\n",
        "\r\n"
      ],
      "execution_count": null,
      "outputs": []
    },
    {
      "cell_type": "code",
      "metadata": {
        "colab": {
          "background_save": true,
          "base_uri": "https://localhost:8080/"
        },
        "id": "2YouIjZjs1fq",
        "outputId": "ec5075e4-9193-4919-8d2f-554f54135810"
      },
      "source": [
        "%%time\r\n",
        "\r\n",
        "history = defaultdict(list)\r\n",
        "best_accuracy = 0\r\n",
        "\r\n",
        "for epoch in range(EPOCHS):\r\n",
        "\r\n",
        "  print(f'Epoch {epoch + 1}/{EPOCHS}')\r\n",
        "  print('-' * 10)\r\n",
        "\r\n",
        "  train_acc, train_loss = train_epoch(model, optimizer, \r\n",
        "                                      criterion, scheduler, train_data_loader,\r\n",
        "                                      device, len(X_train))\r\n",
        "  print(f'Train loss: {train_loss} Train accuracy: {train_acc}')\r\n",
        "\r\n",
        "  #print(\"////\")\r\n",
        "\r\n",
        "  val_acc , val_loss = evaluate_model(model, optimizer, criterion, scheduler, validation_data_loader, len(X_val))\r\n",
        "\r\n",
        "  print(f'Validation loss: {val_loss} Validation accuracy: {val_acc}')\r\n",
        "\r\n",
        "  \r\n",
        "  history['train_acc'].append(train_acc)\r\n",
        "  history['train_loss'].append(train_loss)\r\n",
        "  history['val_acc'].append(val_acc)\r\n",
        "  history['val_loss'].append(val_loss)\r\n"
      ],
      "execution_count": null,
      "outputs": [
        {
          "output_type": "stream",
          "text": [
            "Epoch 1/12\n",
            "----------\n",
            "Train loss: 0.5565670839506606 Train accuracy: 0.7702134251594543\n",
            "Validation loss: 0.5779601382938299 Validation accuracy: 0.7636887431144714\n",
            "Epoch 2/12\n",
            "----------\n",
            "Train loss: 0.37999975345773646 Train accuracy: 0.8581317663192749\n",
            "Validation loss: 0.5647208360447125 Validation accuracy: 0.7982708811759949\n",
            "Epoch 3/12\n",
            "----------\n",
            "Train loss: 0.2643333546956576 Train accuracy: 0.9129379987716675\n",
            "Validation loss: 0.6209365923634984 Validation accuracy: 0.8299711346626282\n",
            "Epoch 4/12\n",
            "----------\n",
            "Train loss: 0.2030786141784028 Train accuracy: 0.9361307621002197\n",
            "Validation loss: 0.7274653859097849 Validation accuracy: 0.8242074847221375\n",
            "Epoch 5/12\n",
            "----------\n",
            "Train loss: 0.15139926017206756 Train accuracy: 0.9536145329475403\n",
            "Validation loss: 0.7860427683388646 Validation accuracy: 0.8443803787231445\n",
            "Epoch 6/12\n",
            "----------\n",
            "Train loss: 0.12827851419815778 Train accuracy: 0.9629629850387573\n",
            "Validation loss: 0.8036206008189104 Validation accuracy: 0.85014408826828\n",
            "Epoch 7/12\n",
            "----------\n",
            "Train loss: 0.09599498697672439 Train accuracy: 0.9715264439582825\n",
            "Validation loss: 0.9141244449234694 Validation accuracy: 0.8443803787231445\n",
            "Epoch 8/12\n",
            "----------\n",
            "Train loss: 0.0846070764013489 Train accuracy: 0.9758082032203674\n",
            "Validation loss: 0.8928695934915926 Validation accuracy: 0.8573486804962158\n",
            "Epoch 9/12\n",
            "----------\n",
            "Train loss: 0.06798181238247467 Train accuracy: 0.9791622161865234\n",
            "Validation loss: 0.9030186125832684 Validation accuracy: 0.8515849709510803\n",
            "Epoch 10/12\n",
            "----------\n",
            "Train loss: 0.06255814414253441 Train accuracy: 0.9811604022979736\n",
            "Validation loss: 0.901128075821775 Validation accuracy: 0.8544668555259705\n",
            "Epoch 11/12\n",
            "----------\n",
            "Train loss: 0.05950239197585331 Train accuracy: 0.9823735356330872\n",
            "Validation loss: 0.9283878714949506 Validation accuracy: 0.8587896227836609\n",
            "Epoch 12/12\n",
            "----------\n",
            "Train loss: 0.052313432606403185 Train accuracy: 0.984799861907959\n",
            "Validation loss: 0.9283878714949506 Validation accuracy: 0.8587896227836609\n",
            "CPU times: user 48min 20s, sys: 31min 42s, total: 1h 20min 2s\n",
            "Wall time: 1h 20min 35s\n"
          ],
          "name": "stdout"
        }
      ]
    },
    {
      "cell_type": "code",
      "metadata": {
        "id": "IHTIY65SytP8",
        "colab": {
          "base_uri": "https://localhost:8080/"
        },
        "outputId": "1af684f6-92b8-4665-801b-c3846b524560"
      },
      "source": [
        "history['val_acc']"
      ],
      "execution_count": null,
      "outputs": [
        {
          "output_type": "execute_result",
          "data": {
            "text/plain": [
              "[tensor(0.7637, device='cuda:0'),\n",
              " tensor(0.7983, device='cuda:0'),\n",
              " tensor(0.8300, device='cuda:0'),\n",
              " tensor(0.8242, device='cuda:0'),\n",
              " tensor(0.8444, device='cuda:0'),\n",
              " tensor(0.8501, device='cuda:0'),\n",
              " tensor(0.8444, device='cuda:0'),\n",
              " tensor(0.8573, device='cuda:0'),\n",
              " tensor(0.8516, device='cuda:0'),\n",
              " tensor(0.8545, device='cuda:0'),\n",
              " tensor(0.8588, device='cuda:0'),\n",
              " tensor(0.8588, device='cuda:0'),\n",
              " tensor(0.8588, device='cuda:0'),\n",
              " tensor(0.8588, device='cuda:0'),\n",
              " tensor(0.8588, device='cuda:0')]"
            ]
          },
          "metadata": {
            "tags": []
          },
          "execution_count": 73
        }
      ]
    },
    {
      "cell_type": "code",
      "metadata": {
        "id": "A04r2C4aD5RW",
        "colab": {
          "base_uri": "https://localhost:8080/",
          "height": 523
        },
        "outputId": "9104e3da-2e77-4453-e58d-d71baccbe513"
      },
      "source": [
        "plt.plot(history['train_acc'], label='train accuracy')\r\n",
        "plt.plot(history['val_acc'], label='validation accuracy')\r\n",
        "\r\n",
        "plt.title('Training history')\r\n",
        "plt.ylabel('Accuracy')\r\n",
        "plt.xlabel('Epoch')\r\n",
        "plt.legend()\r\n",
        "plt.ylim([0, 1]);"
      ],
      "execution_count": null,
      "outputs": [
        {
          "output_type": "display_data",
          "data": {
            "image/png": "[encoded data removed]",
            "text/plain": [
              "<Figure size 864x576 with 1 Axes>"
            ]
          },
          "metadata": {
            "tags": [],
            "image/png": {
              "width": 732,
              "height": 506
            }
          }
        }
      ]
    },
    {
      "cell_type": "code",
      "metadata": {
        "id": "ScXCsJlIaDNx"
      },
      "source": [
        "test_acc, _ = evaluate_model(model, optimizer, criterion, scheduler, test_data_loader, len(X_test))\r\n"
      ],
      "execution_count": null,
      "outputs": []
    },
    {
      "cell_type": "code",
      "metadata": {
        "colab": {
          "base_uri": "https://localhost:8080/"
        },
        "id": "BHVZLzTsgP4W",
        "outputId": "faa1b175-35a6-4707-ec24-982b6acf655a"
      },
      "source": [
        "test_acc"
      ],
      "execution_count": null,
      "outputs": [
        {
          "output_type": "execute_result",
          "data": {
            "text/plain": [
              "tensor(0.8653, device='cuda:0')"
            ]
          },
          "metadata": {
            "tags": []
          },
          "execution_count": 71
        }
      ]
    },
    {
      "cell_type": "code",
      "metadata": {
        "id": "T9uNTjVQgRG_"
      },
      "source": [
        "def get_predictions(model, data_loader):\r\n",
        "\r\n",
        "  model = model.eval()\r\n",
        "  \r\n",
        "  review_texts = []\r\n",
        "  predictions = []\r\n",
        "  prediction_probs = []\r\n",
        "  real_values = []\r\n",
        "\r\n",
        "  with torch.no_grad():\r\n",
        "\r\n",
        "    for d in data_loader:\r\n",
        "\r\n",
        "      texts = d[\"review\"]\r\n",
        "      input_ids = d[\"input_ids\"].squeeze(1).to(device)\r\n",
        "      attention_mask = d[\"attention_mask\"].squeeze(1).to(device)\r\n",
        "      targets = d[\"target\"].to(device)\r\n",
        "\r\n",
        "      outputs = model(\r\n",
        "        input_ids,\r\n",
        "        attention_mask\r\n",
        "      )\r\n",
        "      _, preds = torch.max(outputs, dim=1)\r\n",
        "\r\n",
        "      probs = F.softmax(outputs, dim=1)\r\n",
        "\r\n",
        "      review_texts.extend(texts)\r\n",
        "      predictions.extend(preds)\r\n",
        "      prediction_probs.extend(probs)\r\n",
        "      real_values.extend(targets)\r\n",
        "\r\n",
        "  predictions = torch.stack(predictions).cpu()\r\n",
        "  prediction_probs = torch.stack(prediction_probs).cpu()\r\n",
        "  real_values = torch.stack(real_values).cpu()\r\n",
        "  return review_texts, predictions, prediction_probs, real_values\r\n",
        "\r\n"
      ],
      "execution_count": null,
      "outputs": []
    },
    {
      "cell_type": "code",
      "metadata": {
        "id": "D7yNfehpoqfp"
      },
      "source": [
        "text, predictions, pred_probs, targets = get_predictions(model, test_data_loader)"
      ],
      "execution_count": null,
      "outputs": []
    },
    {
      "cell_type": "code",
      "metadata": {
        "colab": {
          "base_uri": "https://localhost:8080/"
        },
        "id": "6g8fTkSfqTxx",
        "outputId": "36ebfcce-3660-4a2e-876f-7262bc721ada"
      },
      "source": [
        "\"\"\"\r\n",
        "This can be used to see the example and how our model predicts\r\n",
        "\r\n",
        "\"\"\"\r\n",
        "\r\n",
        "x = 460\r\n",
        "\r\n",
        "print(text[x])\r\n",
        "print(predictions[x].item())\r\n",
        "print(targets[x].item())\r\n",
        "print(pred_probs[x])"
      ],
      "execution_count": null,
      "outputs": [
        {
          "output_type": "stream",
          "text": [
            "Used to love this app, but the new widget is ugly, unreadable, and too easy to accidentally check something. I'll be looking for a replacement if this hasn't been fixed by the time my subscription runs out.\n",
            "1\n",
            "1\n",
            "tensor([6.0023e-05, 9.9967e-01, 2.6854e-04])\n"
          ],
          "name": "stdout"
        }
      ]
    },
    {
      "cell_type": "code",
      "metadata": {
        "colab": {
          "base_uri": "https://localhost:8080/"
        },
        "id": "cSzLyHFTqrzl",
        "outputId": "7ae291ae-477b-4efd-fa91-e55b66a284b1"
      },
      "source": [
        ""
      ],
      "execution_count": null,
      "outputs": [
        {
          "output_type": "execute_result",
          "data": {
            "text/plain": [
              "1039"
            ]
          },
          "metadata": {
            "tags": []
          },
          "execution_count": 94
        }
      ]
    },
    {
      "cell_type": "code",
      "metadata": {
        "id": "pjnFvXzgrQkB"
      },
      "source": [
        ""
      ],
      "execution_count": null,
      "outputs": []
    }
  ]
}